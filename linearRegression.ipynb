{
 "cells": [
  {
   "cell_type": "markdown",
   "metadata": {},
   "source": [
    "# Linear Regression with Packages, Algebra, and Gradient Descent\n",
    "## Hiro Miyake\n",
    "## August 27, 2017\n",
    "### Contents\n",
    "1. [Introduction](#intro)\n",
    "2. [Exploratory Data Analysis](#eda)\n",
    "3. [Linear Regression with Packages](#packages)\n",
    "4. [Linear Regression with Algebra](#algebra)\n",
    "5. [Linear Regression with Gradient Descent](#gd)"
   ]
  },
  {
   "cell_type": "markdown",
   "metadata": {},
   "source": [
    "<a id=\"intro\"></a>\n",
    "# Introduction\n",
    "In this notebook, I explore linear regression. The equations are best rendering by viewing this notebook at [nbviewer](https://nbviewer.jupyter.org/github/hiromiyake/DataAnalysisProjects/blob/master/Learning/linearRegression.ipynb).\n",
    "\n",
    "For the purposes of this notebook, I use a data set I used in another project. First, I will do a quick exploratory data analysis using the seaborn package. Then I will perform linear regression using packages made by other people and are fairly standard in the field. Next I perform linear regression analytically by minimizing the mean squared error. Then I will do the same thing using gradient descent, which is a numerical technique.\n",
    "\n",
    "First, I load in the necessary packages."
   ]
  },
  {
   "cell_type": "code",
   "execution_count": 1,
   "metadata": {
    "collapsed": true
   },
   "outputs": [],
   "source": [
    "%matplotlib inline\n",
    "import matplotlib.pyplot as plt\n",
    "import pylab\n",
    "import numpy as np\n",
    "import pandas as pd\n",
    "import seaborn as sns\n",
    "\n",
    "## http://www.statsmodels.org/stable/index.html\n",
    "import statsmodels.api as sm\n",
    "import statsmodels.formula.api as smf\n",
    "\n",
    "## http://scikit-learn.org/stable/modules/generated/sklearn.linear_model.LinearRegression.html\n",
    "## http://scikit-learn.org/stable/auto_examples/linear_model/plot_ols.html\n",
    "from sklearn import linear_model\n",
    "\n",
    "## Loading a csv file into pandas\n",
    "## https://chrisalbon.com/python/pandas_dataframe_importing_csv.html\n",
    "\n",
    "## Visualization with pandas\n",
    "## https://pandas.pydata.org/pandas-docs/stable/visualization.html\n",
    "## https://pandas.pydata.org/pandas-docs/stable/visualization.html\n",
    "\n",
    "## Visualization with Seaborn\n",
    "## https://seaborn.pydata.org\n",
    "## http://blog.insightdatalabs.com/advanced-functionality-in-seaborn/\n",
    "## https://chrisalbon.com/python/pandas_with_seaborn.html\n",
    "## https://elitedatascience.com/python-seaborn-tutorial\n",
    "## http://seaborn.pydata.org/tutorial.html"
   ]
  },
  {
   "cell_type": "markdown",
   "metadata": {},
   "source": [
    "<a id=\"eda\"></a>\n",
    "# Exploratory Data Analysis\n",
    "We can use the seaborn package to visually explore dependencies in the data."
   ]
  },
  {
   "cell_type": "code",
   "execution_count": 2,
   "metadata": {
    "collapsed": false
   },
   "outputs": [
    {
     "data": {
      "text/html": [
       "<div>\n",
       "<table border=\"1\" class=\"dataframe\">\n",
       "  <thead>\n",
       "    <tr style=\"text-align: right;\">\n",
       "      <th></th>\n",
       "      <th>Unnamed: 0</th>\n",
       "      <th>FileNames</th>\n",
       "      <th>Timestamp</th>\n",
       "      <th>absnum</th>\n",
       "      <th>ClearMax</th>\n",
       "      <th>amplitude</th>\n",
       "      <th>RealTime</th>\n",
       "      <th>Date</th>\n",
       "      <th>Cycle Time (s)</th>\n",
       "    </tr>\n",
       "  </thead>\n",
       "  <tbody>\n",
       "    <tr>\n",
       "      <th>0</th>\n",
       "      <td>NaN</td>\n",
       "      <td>I:\\Data\\2017\\August\\04\\Flea3_20S4M_04Aug2017_0...</td>\n",
       "      <td>3584715908</td>\n",
       "      <td>7217046</td>\n",
       "      <td>109</td>\n",
       "      <td>1.07480</td>\n",
       "      <td>2:25 PM</td>\n",
       "      <td>8/4/2017</td>\n",
       "      <td>6.60667</td>\n",
       "    </tr>\n",
       "    <tr>\n",
       "      <th>1</th>\n",
       "      <td>NaN</td>\n",
       "      <td>I:\\Data\\2017\\August\\04\\Flea3_20S4M_04Aug2017_0...</td>\n",
       "      <td>3584715917</td>\n",
       "      <td>7322420</td>\n",
       "      <td>111</td>\n",
       "      <td>1.10857</td>\n",
       "      <td>NaN</td>\n",
       "      <td>NaN</td>\n",
       "      <td>NaN</td>\n",
       "    </tr>\n",
       "    <tr>\n",
       "      <th>2</th>\n",
       "      <td>NaN</td>\n",
       "      <td>I:\\Data\\2017\\August\\04\\Flea3_20S4M_04Aug2017_0...</td>\n",
       "      <td>3584715925</td>\n",
       "      <td>7232910</td>\n",
       "      <td>111</td>\n",
       "      <td>1.07502</td>\n",
       "      <td>NaN</td>\n",
       "      <td>NaN</td>\n",
       "      <td>NaN</td>\n",
       "    </tr>\n",
       "    <tr>\n",
       "      <th>3</th>\n",
       "      <td>NaN</td>\n",
       "      <td>I:\\Data\\2017\\August\\04\\Flea3_20S4M_04Aug2017_0...</td>\n",
       "      <td>3584715933</td>\n",
       "      <td>7165946</td>\n",
       "      <td>113</td>\n",
       "      <td>1.05917</td>\n",
       "      <td>NaN</td>\n",
       "      <td>NaN</td>\n",
       "      <td>NaN</td>\n",
       "    </tr>\n",
       "    <tr>\n",
       "      <th>4</th>\n",
       "      <td>NaN</td>\n",
       "      <td>I:\\Data\\2017\\August\\04\\Flea3_20S4M_04Aug2017_0...</td>\n",
       "      <td>3584715942</td>\n",
       "      <td>7094478</td>\n",
       "      <td>115</td>\n",
       "      <td>1.07765</td>\n",
       "      <td>NaN</td>\n",
       "      <td>NaN</td>\n",
       "      <td>NaN</td>\n",
       "    </tr>\n",
       "  </tbody>\n",
       "</table>\n",
       "</div>"
      ],
      "text/plain": [
       "   Unnamed: 0                                          FileNames   Timestamp  \\\n",
       "0         NaN  I:\\Data\\2017\\August\\04\\Flea3_20S4M_04Aug2017_0...  3584715908   \n",
       "1         NaN  I:\\Data\\2017\\August\\04\\Flea3_20S4M_04Aug2017_0...  3584715917   \n",
       "2         NaN  I:\\Data\\2017\\August\\04\\Flea3_20S4M_04Aug2017_0...  3584715925   \n",
       "3         NaN  I:\\Data\\2017\\August\\04\\Flea3_20S4M_04Aug2017_0...  3584715933   \n",
       "4         NaN  I:\\Data\\2017\\August\\04\\Flea3_20S4M_04Aug2017_0...  3584715942   \n",
       "\n",
       "    absnum  ClearMax  amplitude RealTime      Date  Cycle Time (s)  \n",
       "0  7217046       109    1.07480  2:25 PM  8/4/2017         6.60667  \n",
       "1  7322420       111    1.10857      NaN       NaN             NaN  \n",
       "2  7232910       111    1.07502      NaN       NaN             NaN  \n",
       "3  7165946       113    1.05917      NaN       NaN             NaN  \n",
       "4  7094478       115    1.07765      NaN       NaN             NaN  "
      ]
     },
     "execution_count": 2,
     "metadata": {},
     "output_type": "execute_result"
    }
   ],
   "source": [
    "df1=pd.read_csv(\"data/BBrMOT_Data.csv\")\n",
    "df1.head()"
   ]
  },
  {
   "cell_type": "code",
   "execution_count": 3,
   "metadata": {
    "collapsed": false
   },
   "outputs": [
    {
     "data": {
      "text/plain": [
       "<matplotlib.axes._subplots.AxesSubplot at 0x11479eb50>"
      ]
     },
     "execution_count": 3,
     "metadata": {},
     "output_type": "execute_result"
    },
    {
     "data": {
      "image/png": "[encoded data removed]",
      "text/plain": [
       "<matplotlib.figure.Figure at 0x11479e350>"
      ]
     },
     "metadata": {},
     "output_type": "display_data"
    }
   ],
   "source": [
    "df1.plot.scatter(x='ClearMax', y='absnum')"
   ]
  },
  {
   "cell_type": "markdown",
   "metadata": {},
   "source": [
    "It looks like there is a linear relationship between `absnum` and `ClearMax`. Seaborn allows us to plot a visually pleasing linear regression curve through these data points."
   ]
  },
  {
   "cell_type": "code",
   "execution_count": 4,
   "metadata": {
    "collapsed": false
   },
   "outputs": [
    {
     "data": {
      "text/plain": [
       "<seaborn.axisgrid.FacetGrid at 0x117b69c90>"
      ]
     },
     "execution_count": 4,
     "metadata": {},
     "output_type": "execute_result"
    },
    {
     "data": {
      "image/png": "[encoded data removed]",
      "text/plain": [
       "<matplotlib.figure.Figure at 0x117b69510>"
      ]
     },
     "metadata": {},
     "output_type": "display_data"
    }
   ],
   "source": [
    "## https://elitedatascience.com/python-seaborn-tutorial\n",
    "## https://seaborn.pydata.org/tutorial/regression.html\n",
    "sns.lmplot(x='ClearMax', y='absnum', data=df1)"
   ]
  },
  {
   "cell_type": "markdown",
   "metadata": {},
   "source": [
    "We can also plot the residual."
   ]
  },
  {
   "cell_type": "code",
   "execution_count": 5,
   "metadata": {
    "collapsed": false
   },
   "outputs": [
    {
     "data": {
      "text/plain": [
       "<matplotlib.axes._subplots.AxesSubplot at 0x117bf9410>"
      ]
     },
     "execution_count": 5,
     "metadata": {},
     "output_type": "execute_result"
    },
    {
     "data": {
      "image/png": "[encoded data removed]",
      "text/plain": [
       "<matplotlib.figure.Figure at 0x117b69dd0>"
      ]
     },
     "metadata": {},
     "output_type": "display_data"
    }
   ],
   "source": [
    "sns.residplot(x='ClearMax', y='absnum', data=df1)"
   ]
  },
  {
   "cell_type": "markdown",
   "metadata": {},
   "source": [
    "Unfortunately, seaborn does not allow us to easily extract the linear regression parameters easily. We can use other packages for this purpose."
   ]
  },
  {
   "cell_type": "markdown",
   "metadata": {},
   "source": [
    "<a id=\"packages\"></a>\n",
    "# 3. Linear Regression with Packages\n",
    "Here I will use the statsmodels and scikit-learn packages to perform linear regression on this data."
   ]
  },
  {
   "cell_type": "markdown",
   "metadata": {},
   "source": [
    "## 3.1. Linear Regression with Statsmodels"
   ]
  },
  {
   "cell_type": "code",
   "execution_count": 6,
   "metadata": {
    "collapsed": false
   },
   "outputs": [
    {
     "name": "stdout",
     "output_type": "stream",
     "text": [
      "                            OLS Regression Results                            \n",
      "==============================================================================\n",
      "Dep. Variable:                 absnum   R-squared:                       0.772\n",
      "Model:                            OLS   Adj. R-squared:                  0.770\n",
      "Method:                 Least Squares   F-statistic:                     336.0\n",
      "Date:                Sun, 27 Aug 2017   Prob (F-statistic):           1.36e-33\n",
      "Time:                        15:35:08   Log-Likelihood:                -1400.3\n",
      "No. Observations:                 101   AIC:                             2805.\n",
      "Df Residuals:                      99   BIC:                             2810.\n",
      "Df Model:                           1                                         \n",
      "Covariance Type:            nonrobust                                         \n",
      "==============================================================================\n",
      "                 coef    std err          t      P>|t|      [95.0% Conf. Int.]\n",
      "------------------------------------------------------------------------------\n",
      "Intercept  -7.979e+05    4.2e+05     -1.900      0.060     -1.63e+06  3.55e+04\n",
      "ClearMax    7.382e+04   4026.988     18.331      0.000      6.58e+04  8.18e+04\n",
      "==============================================================================\n",
      "Omnibus:                        4.395   Durbin-Watson:                   1.265\n",
      "Prob(Omnibus):                  0.111   Jarque-Bera (JB):                3.718\n",
      "Skew:                          -0.423   Prob(JB):                        0.156\n",
      "Kurtosis:                       3.411   Cond. No.                     1.72e+03\n",
      "==============================================================================\n",
      "\n",
      "Warnings:\n",
      "[1] Standard Errors assume that the covariance matrix of the errors is correctly specified.\n",
      "[2] The condition number is large, 1.72e+03. This might indicate that there are\n",
      "strong multicollinearity or other numerical problems.\n"
     ]
    }
   ],
   "source": [
    "lm1 = smf.ols('absnum ~ ClearMax', data=df1).fit()\n",
    "print lm1.summary()"
   ]
  },
  {
   "cell_type": "markdown",
   "metadata": {},
   "source": [
    "## 3.2. Linear Regression with Scikit-Learn\n",
    "We can do a similar thing with the scikit-learn package."
   ]
  },
  {
   "cell_type": "code",
   "execution_count": 7,
   "metadata": {
    "collapsed": false
   },
   "outputs": [
    {
     "name": "stdout",
     "output_type": "stream",
     "text": [
      "The slope of the fit is: [[ 73819.95631933]]\n",
      "The intercept of the fit is: [-797909.06631401]\n",
      "The R squared is: 0.772433024059\n"
     ]
    }
   ],
   "source": [
    "lm1_sk = linear_model.LinearRegression()\n",
    "\n",
    "# Train the model using the training sets\n",
    "ndata1 = len(df1.ClearMax.values)\n",
    "lm1_sk.fit(df1.ClearMax.values.reshape((ndata1,1)), df1.absnum.values.reshape((ndata1,1)))\n",
    "print 'The slope of the fit is: ' + str(lm1_sk.coef_)\n",
    "print 'The intercept of the fit is: ' + str(lm1_sk.intercept_)\n",
    "print 'The R squared is: ' +str(lm1_sk.score(df1.ClearMax.values.reshape((ndata1,1)), df1.absnum.values.reshape((ndata1,1))))"
   ]
  },
  {
   "cell_type": "markdown",
   "metadata": {},
   "source": [
    "Note that using scikit-learn is more clumsy than using statsmodels and is more work to extract the parameters. Furthermore, detailed statistical information is more easily extracted using the statsmodels package. In general, scikit-learn is useful to make predictions from data, but statsmodels is better suited to understanding the data."
   ]
  },
  {
   "cell_type": "markdown",
   "metadata": {},
   "source": [
    "<a id=\"algebra\"></a>\n",
    "# 4. Linear Regression with Algebra\n",
    "Here I will perform linear regression analytically. This will give us a clear understanding of what the packages are doing underneath the hood.\n",
    "\n",
    "## 4.1. Linear Regression with Brute Force Algebra\n",
    "First, we have a set of data points, where we let $x_i$ by the independent variable and $y_i$ is the dependent variable. We want to find parameters $a$ and $b$ such that $y = ax + b$ is a 'good fit.' This goodness of fit will be determined by minimizing the cost function, which is the mean squared error defined as\n",
    "$$\n",
    "\\begin{align}\n",
    "J &= \\sum_i (y_i - \\hat{y}_i)^2 \\\\\n",
    "  &= \\sum_i \\left[ y_i - (ax_i + b) \\right]^2\n",
    "\\end{align}\n",
    "$$"
   ]
  },
  {
   "cell_type": "markdown",
   "metadata": {
    "collapsed": true
   },
   "source": [
    "If we minimize this by taking the partial derivative with respect to $a$ and $b$, we get\n",
    "$$\n",
    "\\begin{align}\n",
    "\\frac{\\partial J}{\\partial a} &= -2 \\sum_i x_i \\left[ y_i - (ax_i + b) \\right] \\\\\n",
    "\\frac{\\partial J}{\\partial b} &= -2 \\sum_i \\left[ y_i - (ax_i + b) \\right]\n",
    "\\end{align}\n",
    "$$"
   ]
  },
  {
   "cell_type": "markdown",
   "metadata": {},
   "source": [
    "If we set the partial derivatives equal to zero, the $\\partial J / \\partial b$ equation can be written\n",
    "$$\n",
    "\\begin{align}\n",
    "nb &= \\sum_i \\left( y_i - ax_i \\right) \\\\\n",
    " b &= \\frac{1}{n}\\sum_i \\left( y_i - ax_i \\right) \\\\\n",
    "   &= \\bar{y} - a \\bar{x}\n",
    "\\end{align}\n",
    "$$"
   ]
  },
  {
   "cell_type": "markdown",
   "metadata": {},
   "source": [
    "If we plug this into the expression for $\\partial J / \\partial a$ and setting it equal to zero, we get\n",
    "$$\n",
    "\\begin{align}\n",
    "0 &= \\sum_i x_i \\left[ y_i - \\left( ax_i + \\bar{y} - a \\bar{x} \\right) \\right] \\\\\n",
    "0 &= \\sum_i x_i ( y_i - \\bar{y} ) - a ( \\sum_i x_i^2 - n \\bar{x}^2 ) \\\\\n",
    "a &= \\frac{\\sum_i x_i ( y_i - \\bar{y} )}{\\sum_i x_i^2 - n \\bar{x}^2} \\\\\n",
    "a &= \\frac{\\sum_i x_i y_i - n \\bar{x} \\bar{y} }{\\sum_i x_i^2 - n \\bar{x}^2}\n",
    "\\end{align}\n",
    "$$"
   ]
  },
  {
   "cell_type": "markdown",
   "metadata": {},
   "source": [
    "Now plug this back into the expression for $b$ to get\n",
    "$$\n",
    "\\begin{align}\n",
    " b &= \\bar{y} - a \\bar{x} \\\\\n",
    "   &= \\bar{y} - \\frac{\\sum_i x_i y_i - n \\bar{x} \\bar{y} }{\\sum_i x_i^2 - n \\bar{x}^2} \\bar{x}\n",
    "\\end{align}\n",
    "$$"
   ]
  },
  {
   "cell_type": "markdown",
   "metadata": {},
   "source": [
    "So the analytical expression for the coefficients are given as\n",
    "$$\n",
    "\\begin{align}\n",
    "a &= \\frac{\\sum_i x_i y_i - n \\bar{x} \\bar{y} }{\\sum_i x_i^2 - n \\bar{x}^2} \\\\\n",
    "b &= \\bar{y} - \\frac{\\sum_i x_i y_i - n \\bar{x} \\bar{y} }{\\sum_i x_i^2 - n \\bar{x}^2} \\bar{x}\n",
    "\\end{align}\n",
    "$$\n",
    "\n",
    "For our bivariate data, this works out as follows."
   ]
  },
  {
   "cell_type": "code",
   "execution_count": 8,
   "metadata": {
    "collapsed": false
   },
   "outputs": [
    {
     "name": "stdout",
     "output_type": "stream",
     "text": [
      "The linear coefficient a is: 73819.9563193\n",
      "The intercept b is: -797909.066314\n"
     ]
    }
   ],
   "source": [
    "x = df1.ClearMax.values\n",
    "y = df1.absnum.values\n",
    "\n",
    "xbar = np.mean(x)\n",
    "ybar = np.mean(y)\n",
    "n = len(x)\n",
    "\n",
    "xy = 0\n",
    "for i in xrange(n):\n",
    "    xy += x[i]*y[i]\n",
    "\n",
    "xsquared = 0\n",
    "for i in xrange(n):\n",
    "    xsquared += x[i]*x[i]\n",
    "\n",
    "a = (xy - n*xbar*ybar)/(xsquared - n*xbar**2)\n",
    "b = ybar - a*xbar\n",
    "\n",
    "print 'The linear coefficient a is: ' + str(a)\n",
    "print 'The intercept b is: ' + str(b)"
   ]
  },
  {
   "cell_type": "markdown",
   "metadata": {},
   "source": [
    "These values are consistent with those obtained with the statsmodels and scikit-learn packages."
   ]
  },
  {
   "cell_type": "markdown",
   "metadata": {},
   "source": [
    "## 4.2. Linear Regression with Linear Algebra and Matrices\n",
    "The above analytical analysis works well for bivariate data, but when the number of variables increase, this algebraic approach will be cumbersome. We can deal with this most easily by formulating the problem in terms of matrices.\n",
    "\n",
    "Let's assume we have data with $n$ samples and $p$ independent variables and arrange this in an $n \\times (p + 1)$ matrix $\\textbf{X}$, where we augment the original data with a column of ones, which will correspond to the predictor of the constant in the regression. And also arrange the outcome in an $n \\times 1$ vector $\\textbf{y}$. If we also arrange the regression coefficients as an $(p + 1) \\times 1$ vector $\\theta$, we can write the equation we want to get as\n",
    "$$\n",
    "\\begin{align}\n",
    "\\textbf{y} = \\textbf{X} \\theta.\n",
    "\\end{align}\n",
    "$$\n",
    "\n",
    "With these definitions, the cost function can be written (recall some matrix calculus properties [here](https://en.wikipedia.org/wiki/Matrix_calculus))\n",
    "$$\n",
    "\\begin{align}\n",
    "J &= (\\textbf{y} - \\hat{\\textbf{y}})^T(\\textbf{y} - \\hat{\\textbf{y}}) \\\\\n",
    "  &= (\\textbf{y} - \\textbf{X} \\theta)^T(\\textbf{y} - \\textbf{X} \\theta) \\\\\n",
    "\\frac{\\partial J}{\\partial \\theta} &= 2 \\frac{\\partial (\\textbf{y} - \\textbf{X} \\theta)}{\\partial \\theta} (\\textbf{y} - \\textbf{X} \\theta) \\\\\n",
    "  &= -2 \\textbf{X}^T (\\textbf{y} - \\textbf{X} \\theta)\n",
    "\\end{align}\n",
    "$$"
   ]
  },
  {
   "cell_type": "markdown",
   "metadata": {},
   "source": [
    "Now if we set the derivative to zero, we can write\n",
    "$$\n",
    "\\begin{align}\n",
    "\\textbf{X}^T \\textbf{y} &= \\textbf{X}^T \\textbf{X} \\theta\n",
    "\\end{align}\n",
    "$$"
   ]
  },
  {
   "cell_type": "markdown",
   "metadata": {},
   "source": [
    "Assuming $\\textbf{X}^T\\textbf{X}$ is invertible, we can write this as\n",
    "$$\n",
    "\\begin{align}\n",
    "\\theta &= \\left( \\textbf{X}^T \\textbf{X} \\right)^{-1} \\textbf{X}^T \\textbf{y}\n",
    "\\end{align}\n",
    "$$\n",
    "\n",
    "We now implement this matrix approach with numpy arrays."
   ]
  },
  {
   "cell_type": "code",
   "execution_count": 9,
   "metadata": {
    "collapsed": false
   },
   "outputs": [
    {
     "name": "stdout",
     "output_type": "stream",
     "text": [
      "The linear coefficient a is: 73819.9563195\n",
      "The intercept b is: -797909.06633\n"
     ]
    }
   ],
   "source": [
    "## https://docs.scipy.org/doc/numpy-dev/user/numpy-for-matlab-users.html\n",
    "xmat = np.array([np.ones(x.shape), x]) ## This is a p x n matrix\n",
    "xmat = xmat.T ## This turns this into a n x p matrix\n",
    "a, b = np.dot(np.dot(np.linalg.pinv(np.dot(xmat.T, xmat)),xmat.T), y)\n",
    "print 'The linear coefficient a is: ' + str(b)\n",
    "print 'The intercept b is: ' + str(a)"
   ]
  },
  {
   "cell_type": "markdown",
   "metadata": {},
   "source": [
    "As expected, the matrix approach gives the same answer as with the packages and the algebraic approach above. The benefit of the matrix approach is that it easily generalizes to data with more than one independent variable.\n",
    "\n",
    "Although the method is elegant, the matrix approach can have difficulties when the data set becomes very large, since a matrix inversion is a part of the procedure and matrix inversion is computationally costly for large matrices. One method that overcomes this difficulity is to minimize the cost function with the gradient descent method. We explore this next."
   ]
  },
  {
   "cell_type": "markdown",
   "metadata": {},
   "source": [
    "<a id=\"gd\"></a>\n",
    "# 5. Linear Regression with Gradient Descent\n",
    "\n",
    "The set up is identical to the matrix approach, but instead of inverting a matrix directly to minimize the cost function, with gradient descent we numerically minimize the cost function step by step. A great reference for this section is the [Machine Learning](https://www.coursera.org/learn/machine-learning) Coursera course taught by Andrew Ng.\n",
    "\n",
    "The cost function is defined the same way as in the matrix approach. The coefficients are then updated iteratively using the derivative of the cost function.\n",
    "\n",
    "$$\n",
    "\\begin{align}\n",
    "J &= \\frac{1}{2m}(\\textbf{y} - \\textbf{X} \\theta)^2 \\\\\n",
    "\\frac{\\partial J}{\\partial \\theta} &= \\frac{1}{m} \\textbf{X}^T (\\textbf{X} \\theta - \\textbf{y}) \\\\\n",
    "\\theta &:= \\theta - \\alpha \\frac{\\partial J}{\\partial \\theta} \\\\\n",
    "       &:= \\theta - \\alpha \\frac{1}{m} \\textbf{X}^T (\\textbf{X} \\theta - \\textbf{y})\n",
    "\\end{align}\n",
    "$$\n",
    "\n",
    "Here $\\alpha$ is a learning parameter which specifies how fast the method converges to the optimum coefficients. If it is too small, the convergence will be too slow. If it is too large, then each step could be too big and the method may fail to converge. One way to check this is to examine the cost function and make sure it is monotonically converging to a fixed values.\n",
    "\n",
    "The cost function is calculated using the `computeCost` function below, and the optimum fit parameters are determined using the `gradientDescent` function below."
   ]
  },
  {
   "cell_type": "code",
   "execution_count": 10,
   "metadata": {
    "collapsed": true
   },
   "outputs": [],
   "source": [
    "def computeCost(X, y, theta):\n",
    "    m = len(y)\n",
    "    return np.sum(1.0/2.0/m*(np.dot(X, theta) - y)**2)\n",
    "\n",
    "def gradientDescent(X, y, theta, alpha, numiters):\n",
    "    m = len(y)\n",
    "    J_history = np.zeros((numiters, 1))\n",
    "    for i in xrange(numiters):\n",
    "        theta = theta - alpha/m*np.dot(X.T, (np.dot(X, theta) - y))\n",
    "        J_history[i] = computeCost(X, y, theta)\n",
    "    return theta, J_history"
   ]
  },
  {
   "cell_type": "markdown",
   "metadata": {},
   "source": [
    "Because this is a numerical technique, it is important to rescale all of your variables to fall within roughly the range of -1 to 1 to get stable and reliable results. The original fit is to a functional form $y = ax + b$, but the new fit is to a functional form $y' = a'x' + b'$, where\n",
    "\n",
    "$$\n",
    "\\begin{align}\n",
    "x' &= \\frac{x - \\overline{x}}{\\sigma_x} \\\\\n",
    "y' &= \\frac{y - \\overline{y}}{\\sigma_y}.\n",
    "\\end{align}\n",
    "$$\n",
    "This procedure is performed in the function `normalizeData` below.\n",
    "\n",
    "By plugging these expressions back into the original linear regression expression, we get that\n",
    "$$\n",
    "\\begin{align}\n",
    "a &= \\frac{a' \\sigma_y}{\\sigma_x} \\\\\n",
    "b &= \\sigma_y \\left( b' - \\frac{a' \\overline{x}}{\\sigma_x} + \\frac{\\overline{y}}{\\sigma_y} \\right).\n",
    "\\end{align}\n",
    "$$\n",
    "\n",
    "To get the fit coefficients in the original units, you need to rescale the normalized fit coefficients, and that is done in `rescaledCoeff` below. Note the `computeCost` and `gradientDescent` functions should be valid for multivariate linear regression, but the `rescaledCoeff` as implemented below is valid only for bivariate linear regression."
   ]
  },
  {
   "cell_type": "code",
   "execution_count": 11,
   "metadata": {
    "collapsed": true
   },
   "outputs": [],
   "source": [
    "def normalizeData(df):\n",
    "    df_norm = (df - df.mean()) / (df.std())\n",
    "    return df_norm, df.mean(), df.std()\n",
    "\n",
    "def rescaledCoeff(theta, means, sds):\n",
    "    lincoeff = theta[1]/sds[0]*sds[1]\n",
    "    constcoeff = sds[1]*(theta[0] - means[0]/sds[0]*theta[1] + means[1]/sds[1])\n",
    "    return lincoeff, constcoeff"
   ]
  },
  {
   "cell_type": "markdown",
   "metadata": {},
   "source": [
    "Now with these preliminaries out of the way, we can perform a linear regression with gradient descent."
   ]
  },
  {
   "cell_type": "code",
   "execution_count": 12,
   "metadata": {
    "collapsed": false
   },
   "outputs": [
    {
     "name": "stdout",
     "output_type": "stream",
     "text": [
      "The linear coefficient a is: 73819.9563193\n",
      "The intercept b is: -797909.066313\n"
     ]
    },
    {
     "data": {
      "text/plain": [
       "<matplotlib.text.Text at 0x1187a7650>"
      ]
     },
     "execution_count": 12,
     "metadata": {},
     "output_type": "execute_result"
    },
    {
     "data": {
      "image/png": "[encoded data removed]",
      "text/plain": [
       "<matplotlib.figure.Figure at 0x117c93050>"
      ]
     },
     "metadata": {},
     "output_type": "display_data"
    }
   ],
   "source": [
    "x = df1.ClearMax.values\n",
    "yval = df1.absnum.values\n",
    "dfsub = df1[['ClearMax', 'absnum']]\n",
    "df1norm, df1mean, df1sd = normalizeData(dfsub)\n",
    "\n",
    "x = df1norm.ClearMax.values\n",
    "yval = df1norm.absnum.values\n",
    "\n",
    "xmat = np.array([np.ones(x.shape), x]) ## This is a p x n matrix\n",
    "xmat = xmat.T ## This turns this into a n x p matrix\n",
    "\n",
    "m = len(yval)\n",
    "nparam = xmat.shape[1]\n",
    "coeff = np.zeros((nparam, 1))\n",
    "yval.resize((m,1))\n",
    "\n",
    "iterations = 3000\n",
    "alpha = 0.01\n",
    "\n",
    "coeff, J_history = gradientDescent(xmat, yval, coeff, alpha, iterations)\n",
    "coeff = rescaledCoeff(coeff, df1mean, df1sd)\n",
    "\n",
    "print 'The linear coefficient a is: ' + str(coeff[0][0])\n",
    "print 'The intercept b is: ' + str(coeff[1][0])\n",
    "\n",
    "plt.plot(J_history)\n",
    "#pylab.ylim([3.3426e10,3.343e10])\n",
    "plt.ylabel('Cost Function')\n",
    "plt.xlabel('Number of Iterations')\n",
    "#plt.show()"
   ]
  },
  {
   "cell_type": "markdown",
   "metadata": {},
   "source": [
    "Indeed the coefficients agree with the package methods and the algebra methods. The cost function is monotonically decreasing with each iteration, so the final coefficient values should be reliable.\n",
    "\n",
    "The strength of the gradient descent approach over the algebra approach is that it is much more scalable when the amount of data increases, since the inversion of a large matrix is computationally costly. However, you do need to make sure you choose appropriate learning parameters and number of iterations, or your results will not be accurate."
   ]
  }
 ],
 "metadata": {
  "kernelspec": {
   "display_name": "Python 2",
   "language": "python",
   "name": "python2"
  },
  "language_info": {
   "codemirror_mode": {
    "name": "ipython",
    "version": 2
   },
   "file_extension": ".py",
   "mimetype": "text/x-python",
   "name": "python",
   "nbconvert_exporter": "python",
   "pygments_lexer": "ipython2",
   "version": "2.7.13"
  }
 },
 "nbformat": 4,
 "nbformat_minor": 2
}
